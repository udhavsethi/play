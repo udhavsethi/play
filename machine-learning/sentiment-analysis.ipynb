{
 "cells": [
  {
   "cell_type": "code",
   "execution_count": 1,
   "metadata": {
    "id": "_iq4gmqdaNM8"
   },
   "outputs": [],
   "source": [
    "import tensorflow as tf\n",
    "import numpy as np\n",
    "import tensorflow_datasets as tfds"
   ]
  },
  {
   "cell_type": "code",
   "execution_count": 2,
   "metadata": {
    "id": "YfZAlvpuaNNF"
   },
   "outputs": [],
   "source": [
    "########## Dataset ##########"
   ]
  },
  {
   "cell_type": "code",
   "execution_count": 3,
   "metadata": {
    "id": "8mf7L9yeaNNG"
   },
   "outputs": [],
   "source": [
    "tfds.disable_progress_bar()"
   ]
  },
  {
   "cell_type": "code",
   "execution_count": 4,
   "metadata": {
    "id": "rzFkNoEMaNNH"
   },
   "outputs": [],
   "source": [
    "dataset, info = tfds.load('imdb_reviews', with_info=True, as_supervised=True)"
   ]
  },
  {
   "cell_type": "code",
   "execution_count": 5,
   "metadata": {
    "colab": {
     "base_uri": "https://localhost:8080/",
     "height": 52
    },
    "id": "ArROjqa8aNNK",
    "outputId": "77e0e540-129d-4f4e-cf3b-7e5ed21a7a31"
   },
   "outputs": [
    {
     "data": {
      "application/vnd.google.colaboratory.intrinsic+json": {
       "type": "string"
      },
      "text/plain": [
       "'Large Movie Review Dataset.\\nThis is a dataset for binary sentiment classification containing substantially more data than previous benchmark datasets. We provide a set of 25,000 highly polar movie reviews for training, and 25,000 for testing. There is additional unlabeled data for use as well.'"
      ]
     },
     "execution_count": 5,
     "metadata": {},
     "output_type": "execute_result"
    }
   ],
   "source": [
    "info.description"
   ]
  },
  {
   "cell_type": "code",
   "execution_count": 6,
   "metadata": {
    "id": "aDmDJbcSaNNK"
   },
   "outputs": [],
   "source": [
    "train_dataset, test_dataset = dataset['train'], dataset['test']"
   ]
  },
  {
   "cell_type": "code",
   "execution_count": 7,
   "metadata": {
    "colab": {
     "base_uri": "https://localhost:8080/"
    },
    "id": "DS1HoIGQaNNL",
    "outputId": "2d61fdd5-794b-4acc-cdae-7680732b2d51"
   },
   "outputs": [
    {
     "data": {
      "text/plain": [
       "(TensorSpec(shape=(), dtype=tf.string, name=None),\n",
       " TensorSpec(shape=(), dtype=tf.int64, name=None))"
      ]
     },
     "execution_count": 7,
     "metadata": {},
     "output_type": "execute_result"
    }
   ],
   "source": [
    "train_dataset.element_spec"
   ]
  },
  {
   "cell_type": "code",
   "execution_count": 8,
   "metadata": {
    "colab": {
     "base_uri": "https://localhost:8080/"
    },
    "id": "tDD5RBNyaNNM",
    "outputId": "02a18016-162a-4361-ede5-81d0368e6a53"
   },
   "outputs": [
    {
     "name": "stdout",
     "output_type": "stream",
     "text": [
      "example:  b\"This was an absolutely terrible movie. Don't be lured in by Christopher Walken or Michael Ironside. Both are great actors, but this must simply be their worst role in history. Even their great acting could not redeem this movie's ridiculous storyline. This movie is an early nineties US propaganda piece. The most pathetic scenes were those when the Columbian rebels were making their cases for revolutions. Maria Conchita Alonso appeared phony, and her pseudo-love affair with Walken was nothing but a pathetic emotional plug in a movie that was devoid of any real meaning. I am disappointed that there are movies like this, ruining actor's like Christopher Walken's good name. I could barely sit through it.\"\n",
      "label:  0\n"
     ]
    }
   ],
   "source": [
    "for example, label in train_dataset.take(1):\n",
    "    print('example: ', example.numpy())\n",
    "    print('label: ', label.numpy())"
   ]
  },
  {
   "cell_type": "code",
   "execution_count": 9,
   "metadata": {
    "id": "8lM2AHgUaNNN"
   },
   "outputs": [],
   "source": [
    "BUFFER_SIZE = 10000\n",
    "BATCH_SIZE = 64"
   ]
  },
  {
   "cell_type": "code",
   "execution_count": 10,
   "metadata": {
    "id": "CrZA7aFFaNNO"
   },
   "outputs": [],
   "source": [
    "# shuffle  - fills a buffer with `buffer_size` elements, then randomly samples elements\n",
    "#            from this buffer, replacing the selected elements with new elements.\n",
    "# batch    - combines consecutive elements of this dataset into batches.\n",
    "# prefetch - allows later elements to be prepared while the current element is being processed\n",
    "\n",
    "train_dataset = train_dataset.shuffle(BUFFER_SIZE).batch(BATCH_SIZE).prefetch(tf.data.AUTOTUNE)\n",
    "test_dataset = test_dataset.batch(BATCH_SIZE).prefetch(tf.data.AUTOTUNE)"
   ]
  },
  {
   "cell_type": "code",
   "execution_count": 11,
   "metadata": {
    "colab": {
     "base_uri": "https://localhost:8080/"
    },
    "id": "Mdl2WeLSaNNP",
    "outputId": "a3867e66-b1b0-4d6c-f926-9144902af8d0"
   },
   "outputs": [
    {
     "name": "stdout",
     "output_type": "stream",
     "text": [
      "64 64\n"
     ]
    }
   ],
   "source": [
    "for example, label in train_dataset.take(1):\n",
    "    print(len(example), len(label))"
   ]
  },
  {
   "cell_type": "code",
   "execution_count": 12,
   "metadata": {
    "id": "6UyGunYvaNNP"
   },
   "outputs": [],
   "source": [
    "########## Model ##########"
   ]
  },
  {
   "cell_type": "code",
   "execution_count": 13,
   "metadata": {
    "id": "Ezv4pneDaNNP"
   },
   "outputs": [],
   "source": [
    "VOCAB_SIZE = 1000\n",
    "encoder = tf.keras.layers.TextVectorization(max_tokens=VOCAB_SIZE)\n",
    "encoder.adapt(train_dataset.map(lambda text, label: text))"
   ]
  },
  {
   "cell_type": "code",
   "execution_count": 14,
   "metadata": {
    "colab": {
     "base_uri": "https://localhost:8080/"
    },
    "id": "CgzK1YhYaNNQ",
    "outputId": "bc43d4b8-bdd8-4e3a-d434-3077609bf980"
   },
   "outputs": [
    {
     "name": "stdout",
     "output_type": "stream",
     "text": [
      "['' '[UNK]' 'the' 'and' 'a' 'of' 'to' 'is' 'in' 'it']\n"
     ]
    }
   ],
   "source": [
    "vocab = np.array(encoder.get_vocabulary())\n",
    "print(vocab[:10])"
   ]
  },
  {
   "cell_type": "code",
   "execution_count": 15,
   "metadata": {
    "colab": {
     "base_uri": "https://localhost:8080/"
    },
    "id": "n5J0ncHaaNNQ",
    "outputId": "57a6ac1a-1798-40dd-d5b7-615a4d29edf2"
   },
   "outputs": [
    {
     "name": "stdout",
     "output_type": "stream",
     "text": [
      "tf.Tensor(\n",
      "[[ 49 557   6 ...   0   0   0]\n",
      " [ 10 116   1 ...   0   0   0]\n",
      " [ 10  26   1 ...   0   0   0]\n",
      " ...\n",
      " [ 11  18   7 ...   0   0   0]\n",
      " [ 57   1  13 ...   0   0   0]\n",
      " [ 10  14 176 ...   0   0   0]], shape=(64, 814), dtype=int64)\n"
     ]
    }
   ],
   "source": [
    "encoded_example = encoder(example)\n",
    "print(encoded_example)"
   ]
  },
  {
   "cell_type": "code",
   "execution_count": 16,
   "metadata": {
    "colab": {
     "base_uri": "https://localhost:8080/"
    },
    "id": "2Fbi9S__aNNR",
    "outputId": "301ac537-8b78-493c-8a22-396110aa5f74"
   },
   "outputs": [
    {
     "data": {
      "text/plain": [
       "b'What happens to washed up rock-n-roll stars in the late 1990\\'s? They launch a comeback / reunion tour. At least, that\\'s what the members of Strange Fruit, a (fictional) 70\\'s stadium rock group do.<br /><br />Tony (Stephen Rea) has the concession on condom vending machines when he runs into the son of the promoter of a famous music festival. It was at that festival in the 70\\'s that Strange Fruit broke up. The 70\\'s are \"retro\" and the time is right to wide that wave. He sets off in search of the other members of the band.<br /><br />Part of what broke up the band was the death and replacement of Keith, the lead singer and brilliant song writer. The band was known for its excessive lifestyle and now they are all back amongst the working class from which they came. Beano, the drummer, played by Timothy Spall (who was brilliant in Secrets and Lies) is a layabout, the bass player is a roofer, and their lead singer is still a rocker. While he owns a huge mansion he has been forced to sell it, as his fortune has not lasted. Brian, the lead guitarist, is dead, so a young guitarist is hired to replace him.<br /><br />Somewhat reluctantly the band agree to give the reunion a try. Abandoning their day jobs, they begin to rehearse, and their manager approaches their label about reissuing their albums. But he wants them to start touring again first. And so they hit the club circuit around Europe. The club scene is not kind to these overweight, dated, old rockers.<br /><br />It is on tour that the film really starts to develop. All of the old conflicts rearise, with the figures of Keith and Brian hovering throughout. They all hang together because they are all in search of a second chance for the greatness that eluded them earlier. And they rediscover some of the interpersonal chemistry that made playing together so enjoyable.<br /><br />Still Crazy starts as Spinal Tap II but gradually becomes a more dramatically focused film, following the relationships of the band members. While it is still a very funny movie, it is the evolving characters, struggling to deal with the deaths of Brian and Keith and with their own personal demons, that make the film work.'"
      ]
     },
     "execution_count": 16,
     "metadata": {},
     "output_type": "execute_result"
    }
   ],
   "source": [
    "example[0].numpy()"
   ]
  },
  {
   "cell_type": "code",
   "execution_count": 17,
   "metadata": {
    "colab": {
     "base_uri": "https://localhost:8080/",
     "height": 137
    },
    "id": "xkzi5e9GaNNR",
    "outputId": "aed8b738-3df2-4122-929b-9914f603dbd5"
   },
   "outputs": [
    {
     "data": {
      "application/vnd.google.colaboratory.intrinsic+json": {
       "type": "string"
      },
      "text/plain": [
       "'what happens to [UNK] up [UNK] stars in the late [UNK] they [UNK] a [UNK] [UNK] [UNK] at least thats what the [UNK] of strange [UNK] a [UNK] 70s [UNK] rock group [UNK] br [UNK] [UNK] [UNK] has the [UNK] on [UNK] [UNK] [UNK] when he [UNK] into the son of the [UNK] of a famous music [UNK] it was at that [UNK] in the 70s that strange [UNK] [UNK] up the 70s are [UNK] and the time is right to [UNK] that [UNK] he sets off in [UNK] of the other [UNK] of the [UNK] br part of what [UNK] up the [UNK] was the death and [UNK] of [UNK] the lead [UNK] and brilliant song writer the [UNK] was known for its [UNK] [UNK] and now they are all back [UNK] the working class from which they came [UNK] the [UNK] played by [UNK] [UNK] who was brilliant in [UNK] and [UNK] is a [UNK] the [UNK] [UNK] is a [UNK] and their lead [UNK] is still a [UNK] while he [UNK] a huge [UNK] he has been forced to [UNK] it as his [UNK] has not [UNK] [UNK] the lead [UNK] is dead so a young [UNK] is [UNK] to [UNK] [UNK] br somewhat [UNK] the [UNK] [UNK] to give the [UNK] a try [UNK] their day [UNK] they begin to [UNK] and their [UNK] [UNK] their [UNK] about [UNK] their [UNK] but he wants them to start [UNK] again first and so they hit the [UNK] [UNK] around [UNK] the [UNK] scene is not kind to these [UNK] [UNK] old [UNK] br it is on [UNK] that the film really starts to [UNK] all of the old [UNK] [UNK] with the [UNK] of [UNK] and [UNK] [UNK] throughout they all [UNK] together because they are all in [UNK] of a second chance for the [UNK] that [UNK] them earlier and they [UNK] some of the [UNK] [UNK] that made playing together so [UNK] br still crazy starts as [UNK] [UNK] [UNK] but [UNK] becomes a more [UNK] [UNK] film [UNK] the [UNK] of the [UNK] [UNK] while it is still a very funny movie it is the [UNK] characters [UNK] to deal with the [UNK] of [UNK] and [UNK] and with their own personal [UNK] that make the film work                                                                                                                                                                                                                                                                                                                                                                                                                                              '"
      ]
     },
     "execution_count": 17,
     "metadata": {},
     "output_type": "execute_result"
    }
   ],
   "source": [
    "\" \".join(vocab[encoded_example[0]])"
   ]
  },
  {
   "cell_type": "code",
   "execution_count": 18,
   "metadata": {
    "id": "rHlgJLL1aNNR"
   },
   "outputs": [],
   "source": [
    "model = tf.keras.models.Sequential([\n",
    "    encoder,\n",
    "    tf.keras.layers.Embedding(input_dim=encoder.vocabulary_size(), output_dim=64, mask_zero=True),\n",
    "    tf.keras.layers.Bidirectional(tf.keras.layers.LSTM(64)),\n",
    "    tf.keras.layers.Dense(64, activation='relu'),\n",
    "    tf.keras.layers.Dense(1, activation='sigmoid')\n",
    "])"
   ]
  },
  {
   "cell_type": "code",
   "execution_count": 19,
   "metadata": {
    "id": "vqe1JUFMaNNS"
   },
   "outputs": [],
   "source": [
    "loss = tf.keras.losses.BinaryCrossentropy()"
   ]
  },
  {
   "cell_type": "code",
   "execution_count": 20,
   "metadata": {
    "id": "t0GM59zDaNNS"
   },
   "outputs": [],
   "source": [
    "model.compile(loss=loss, optimizer='adam', metrics=['accuracy'])"
   ]
  },
  {
   "cell_type": "code",
   "execution_count": 21,
   "metadata": {
    "colab": {
     "base_uri": "https://localhost:8080/"
    },
    "id": "YN1KEYkjaNNS",
    "outputId": "b9784816-20b9-4b7c-941d-e9af1c3cae50"
   },
   "outputs": [
    {
     "name": "stdout",
     "output_type": "stream",
     "text": [
      "Epoch 1/10\n",
      "391/391 [==============================] - 111s 257ms/step - loss: 0.4524 - accuracy: 0.7787 - val_loss: 0.3365 - val_accuracy: 0.8557\n",
      "Epoch 2/10\n",
      "391/391 [==============================] - 98s 249ms/step - loss: 0.3368 - accuracy: 0.8558 - val_loss: 0.3335 - val_accuracy: 0.8620\n",
      "Epoch 3/10\n",
      "391/391 [==============================] - 97s 246ms/step - loss: 0.3211 - accuracy: 0.8635 - val_loss: 0.3441 - val_accuracy: 0.8531\n",
      "Epoch 4/10\n",
      "391/391 [==============================] - 97s 246ms/step - loss: 0.3056 - accuracy: 0.8712 - val_loss: 0.3307 - val_accuracy: 0.8583\n",
      "Epoch 5/10\n",
      "391/391 [==============================] - 95s 241ms/step - loss: 0.2845 - accuracy: 0.8803 - val_loss: 0.3503 - val_accuracy: 0.8438\n",
      "Epoch 6/10\n",
      "391/391 [==============================] - 98s 247ms/step - loss: 0.2769 - accuracy: 0.8830 - val_loss: 0.3510 - val_accuracy: 0.8474\n",
      "Epoch 7/10\n",
      "391/391 [==============================] - 97s 246ms/step - loss: 0.2587 - accuracy: 0.8918 - val_loss: 0.3946 - val_accuracy: 0.8599\n",
      "Epoch 8/10\n",
      "391/391 [==============================] - 95s 239ms/step - loss: 0.2437 - accuracy: 0.8982 - val_loss: 0.3749 - val_accuracy: 0.8573\n",
      "Epoch 9/10\n",
      "391/391 [==============================] - 98s 248ms/step - loss: 0.2360 - accuracy: 0.9006 - val_loss: 0.3798 - val_accuracy: 0.8635\n",
      "Epoch 10/10\n",
      "391/391 [==============================] - 96s 244ms/step - loss: 0.2076 - accuracy: 0.9150 - val_loss: 0.3976 - val_accuracy: 0.8443\n"
     ]
    }
   ],
   "source": [
    "history = model.fit(train_dataset, epochs=10, validation_data=test_dataset, validation_steps=30)"
   ]
  },
  {
   "cell_type": "code",
   "execution_count": 21,
   "metadata": {
    "id": "HRVGnKOIaNNT"
   },
   "outputs": [],
   "source": [
    "model.evaluate(test_dataset, verbose=2)"
   ]
  },
  {
   "cell_type": "code",
   "execution_count": null,
   "metadata": {},
   "outputs": [],
   "source": [
    "sample_text = ('The movie was cool. The animation and the graphics '\n",
    "               'were out of this world. I would recommend this movie.')\n",
    "model.predict(np.array([sample_text]))"
   ]
  }
 ],
 "metadata": {
  "accelerator": "GPU",
  "colab": {
   "name": "sentiment-analysis.ipynb",
   "provenance": []
  },
  "kernelspec": {
   "display_name": "Python 3",
   "language": "python",
   "name": "python3"
  },
  "language_info": {
   "codemirror_mode": {
    "name": "ipython",
    "version": 3
   },
   "file_extension": ".py",
   "mimetype": "text/x-python",
   "name": "python",
   "nbconvert_exporter": "python",
   "pygments_lexer": "ipython3",
   "version": "3.7.3"
  }
 },
 "nbformat": 4,
 "nbformat_minor": 4
}
