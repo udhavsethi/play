{
 "cells": [
  {
   "cell_type": "code",
   "execution_count": 2,
   "metadata": {
    "id": "_iq4gmqdaNM8"
   },
   "outputs": [],
   "source": [
    "import tensorflow as tf\n",
    "import numpy as np\n",
    "import tensorflow_datasets as tfds"
   ]
  },
  {
   "cell_type": "code",
   "execution_count": 3,
   "metadata": {
    "id": "YfZAlvpuaNNF"
   },
   "outputs": [],
   "source": [
    "########## Dataset ##########"
   ]
  },
  {
   "cell_type": "code",
   "execution_count": 4,
   "metadata": {
    "id": "8mf7L9yeaNNG"
   },
   "outputs": [],
   "source": [
    "tfds.disable_progress_bar()"
   ]
  },
  {
   "cell_type": "code",
   "execution_count": 5,
   "metadata": {
    "colab": {
     "base_uri": "https://localhost:8080/"
    },
    "id": "rzFkNoEMaNNH",
    "outputId": "e40822c6-e28b-4ad5-cfa0-6fe6a9ca7061"
   },
   "outputs": [
    {
     "name": "stdout",
     "output_type": "stream",
     "text": [
      "\u001b[1mDownloading and preparing dataset imdb_reviews/plain_text/1.0.0 (download: 80.23 MiB, generated: Unknown size, total: 80.23 MiB) to /root/tensorflow_datasets/imdb_reviews/plain_text/1.0.0...\u001b[0m\n",
      "Shuffling and writing examples to /root/tensorflow_datasets/imdb_reviews/plain_text/1.0.0.incomplete5K3Q2I/imdb_reviews-train.tfrecord\n",
      "Shuffling and writing examples to /root/tensorflow_datasets/imdb_reviews/plain_text/1.0.0.incomplete5K3Q2I/imdb_reviews-test.tfrecord\n",
      "Shuffling and writing examples to /root/tensorflow_datasets/imdb_reviews/plain_text/1.0.0.incomplete5K3Q2I/imdb_reviews-unsupervised.tfrecord\n"
     ]
    },
    {
     "name": "stderr",
     "output_type": "stream",
     "text": [
      "WARNING:absl:Dataset is using deprecated text encoder API which will be removed soon. Please use the plain_text version of the dataset and migrate to `tensorflow_text`.\n"
     ]
    },
    {
     "name": "stdout",
     "output_type": "stream",
     "text": [
      "\u001b[1mDataset imdb_reviews downloaded and prepared to /root/tensorflow_datasets/imdb_reviews/plain_text/1.0.0. Subsequent calls will reuse this data.\u001b[0m\n"
     ]
    }
   ],
   "source": [
    "dataset, info = tfds.load('imdb_reviews', with_info=True, as_supervised=True)"
   ]
  },
  {
   "cell_type": "code",
   "execution_count": 6,
   "metadata": {
    "colab": {
     "base_uri": "https://localhost:8080/",
     "height": 52
    },
    "id": "ArROjqa8aNNK",
    "outputId": "2c89e622-9904-4f41-e95b-675ff31d799b"
   },
   "outputs": [
    {
     "data": {
      "application/vnd.google.colaboratory.intrinsic+json": {
       "type": "string"
      },
      "text/plain": [
       "'Large Movie Review Dataset.\\nThis is a dataset for binary sentiment classification containing substantially more data than previous benchmark datasets. We provide a set of 25,000 highly polar movie reviews for training, and 25,000 for testing. There is additional unlabeled data for use as well.'"
      ]
     },
     "execution_count": 6,
     "metadata": {},
     "output_type": "execute_result"
    }
   ],
   "source": [
    "info.description"
   ]
  },
  {
   "cell_type": "code",
   "execution_count": 7,
   "metadata": {
    "id": "aDmDJbcSaNNK"
   },
   "outputs": [],
   "source": [
    "train_dataset, test_dataset = dataset['train'], dataset['test']"
   ]
  },
  {
   "cell_type": "code",
   "execution_count": 8,
   "metadata": {
    "colab": {
     "base_uri": "https://localhost:8080/"
    },
    "id": "DS1HoIGQaNNL",
    "outputId": "9c59fd56-9204-4056-8096-1ab09607515a"
   },
   "outputs": [
    {
     "data": {
      "text/plain": [
       "(TensorSpec(shape=(), dtype=tf.string, name=None),\n",
       " TensorSpec(shape=(), dtype=tf.int64, name=None))"
      ]
     },
     "execution_count": 8,
     "metadata": {},
     "output_type": "execute_result"
    }
   ],
   "source": [
    "train_dataset.element_spec"
   ]
  },
  {
   "cell_type": "code",
   "execution_count": 9,
   "metadata": {
    "colab": {
     "base_uri": "https://localhost:8080/"
    },
    "id": "tDD5RBNyaNNM",
    "outputId": "2565504c-cc3b-49c6-8bf9-bf1e7a54b2b9"
   },
   "outputs": [
    {
     "name": "stdout",
     "output_type": "stream",
     "text": [
      "example:  b\"This was an absolutely terrible movie. Don't be lured in by Christopher Walken or Michael Ironside. Both are great actors, but this must simply be their worst role in history. Even their great acting could not redeem this movie's ridiculous storyline. This movie is an early nineties US propaganda piece. The most pathetic scenes were those when the Columbian rebels were making their cases for revolutions. Maria Conchita Alonso appeared phony, and her pseudo-love affair with Walken was nothing but a pathetic emotional plug in a movie that was devoid of any real meaning. I am disappointed that there are movies like this, ruining actor's like Christopher Walken's good name. I could barely sit through it.\"\n",
      "label:  0\n"
     ]
    }
   ],
   "source": [
    "for example, label in train_dataset.take(1):\n",
    "    print('example: ', example.numpy())\n",
    "    print('label: ', label.numpy())"
   ]
  },
  {
   "cell_type": "code",
   "execution_count": 10,
   "metadata": {
    "id": "8lM2AHgUaNNN"
   },
   "outputs": [],
   "source": [
    "BUFFER_SIZE = 10000\n",
    "BATCH_SIZE = 64"
   ]
  },
  {
   "cell_type": "code",
   "execution_count": 11,
   "metadata": {
    "id": "CrZA7aFFaNNO"
   },
   "outputs": [],
   "source": [
    "# shuffle  - fills a buffer with `buffer_size` elements, then randomly samples elements\n",
    "#            from this buffer, replacing the selected elements with new elements.\n",
    "# batch    - combines consecutive elements of this dataset into batches.\n",
    "# prefetch - allows later elements to be prepared while the current element is being processed\n",
    "\n",
    "train_dataset = train_dataset.shuffle(BUFFER_SIZE).batch(BATCH_SIZE).prefetch(tf.data.AUTOTUNE)\n",
    "test_dataset = test_dataset.batch(BATCH_SIZE).prefetch(tf.data.AUTOTUNE)"
   ]
  },
  {
   "cell_type": "code",
   "execution_count": 12,
   "metadata": {
    "colab": {
     "base_uri": "https://localhost:8080/"
    },
    "id": "Mdl2WeLSaNNP",
    "outputId": "4018d7ad-9653-4554-c0c6-9b185f2bd097"
   },
   "outputs": [
    {
     "name": "stdout",
     "output_type": "stream",
     "text": [
      "64 64\n"
     ]
    }
   ],
   "source": [
    "for example, label in train_dataset.take(1):\n",
    "    print(len(example), len(label))"
   ]
  },
  {
   "cell_type": "code",
   "execution_count": 13,
   "metadata": {
    "id": "6UyGunYvaNNP"
   },
   "outputs": [],
   "source": [
    "########## Model ##########"
   ]
  },
  {
   "cell_type": "code",
   "execution_count": 14,
   "metadata": {
    "id": "Ezv4pneDaNNP"
   },
   "outputs": [],
   "source": [
    "VOCAB_SIZE = 1000\n",
    "encoder = tf.keras.layers.TextVectorization(max_tokens=VOCAB_SIZE)\n",
    "encoder.adapt(train_dataset.map(lambda text, label: text))"
   ]
  },
  {
   "cell_type": "code",
   "execution_count": 15,
   "metadata": {
    "colab": {
     "base_uri": "https://localhost:8080/"
    },
    "id": "CgzK1YhYaNNQ",
    "outputId": "bfc53f4e-5dc5-4f7a-aa2a-c6ad937e2a4c"
   },
   "outputs": [
    {
     "name": "stdout",
     "output_type": "stream",
     "text": [
      "['' '[UNK]' 'the' 'and' 'a' 'of' 'to' 'is' 'in' 'it']\n"
     ]
    }
   ],
   "source": [
    "vocab = np.array(encoder.get_vocabulary())\n",
    "print(vocab[:10])"
   ]
  },
  {
   "cell_type": "code",
   "execution_count": 16,
   "metadata": {
    "colab": {
     "base_uri": "https://localhost:8080/"
    },
    "id": "n5J0ncHaaNNQ",
    "outputId": "d969d6d2-e73c-4c11-d6cc-bfc896ccb3c1"
   },
   "outputs": [
    {
     "name": "stdout",
     "output_type": "stream",
     "text": [
      "tf.Tensor(\n",
      "[[ 11   7  87 ...   0   0   0]\n",
      " [252 108   1 ...   0   0   0]\n",
      " [ 10  26   6 ...   0   0   0]\n",
      " ...\n",
      " [ 10 731   1 ...   0   0   0]\n",
      " [ 10  67   1 ...   0   0   0]\n",
      " [ 11   2   1 ...   0   0   0]], shape=(64, 860), dtype=int64)\n"
     ]
    }
   ],
   "source": [
    "encoded_example = encoder(example)\n",
    "print(encoded_example)"
   ]
  },
  {
   "cell_type": "code",
   "execution_count": 17,
   "metadata": {
    "colab": {
     "base_uri": "https://localhost:8080/"
    },
    "id": "2Fbi9S__aNNR",
    "outputId": "61ea153f-4313-4ad9-f1bc-e27f48ff386b"
   },
   "outputs": [
    {
     "data": {
      "text/plain": [
       "b'This is how I feel about the show.<br /><br />I started watching the show in reruns in 2001.<br /><br />I enjoy the show but it had too many faults.<br /><br />I HATE THE MICHELLE & JOEY CHARACTERS!<br /><br />Stealing story lines from old TV shows. They even stole from \"The Partirdge Family.\" Then in 1 episode \"The Partridge Family\" was mentioned.<br /><br />Actors playing different roles in different episodes. MTV Martha Quinn the most notable doing this, especially when she played herself in 1 episode.<br /><br />The Michelle character COULD NOT take a joke but then they had this little kid act out \"revenge\" to her sisters for a joke by them on her.<br /><br />Story lines that came & went in 1 episode. Joey getting the TV show with Frankie & Annette, never heard from it again after that. Danny all of a sudden playing the guitar. 1 episode he is coaching soccer, 1 episode he is coaching softball/baseball. 1 game & you are out huh Danny? <br /><br />Jesse & Joey keep getting jobs REALLY QUICKLY with no experience. Only in a TV show.<br /><br />I did like the D.J. & Stephanie characters. Wish Jodie Sweetin could have learned from Candace Cameron Bure & had a clean NON drug adult life.'"
      ]
     },
     "execution_count": 17,
     "metadata": {},
     "output_type": "execute_result"
    }
   ],
   "source": [
    "example[0].numpy()"
   ]
  },
  {
   "cell_type": "code",
   "execution_count": 18,
   "metadata": {
    "colab": {
     "base_uri": "https://localhost:8080/",
     "height": 137
    },
    "id": "xkzi5e9GaNNR",
    "outputId": "6dfc1fbf-136f-4f83-ff12-935db8827657"
   },
   "outputs": [
    {
     "data": {
      "application/vnd.google.colaboratory.intrinsic+json": {
       "type": "string"
      },
      "text/plain": [
       "'this is how i feel about the [UNK] br i started watching the show in [UNK] in [UNK] br i enjoy the show but it had too many [UNK] br i hate the [UNK] [UNK] [UNK] br [UNK] story lines from old tv shows they even [UNK] from the [UNK] family then in 1 episode the [UNK] family was [UNK] br actors playing different roles in different episodes [UNK] [UNK] [UNK] the most [UNK] doing this especially when she played herself in 1 [UNK] br the [UNK] character could not take a joke but then they had this little kid act out [UNK] to her [UNK] for a joke by them on [UNK] br story lines that came went in 1 episode [UNK] getting the tv show with [UNK] [UNK] never heard from it again after that [UNK] all of a [UNK] playing the [UNK] 1 episode he is [UNK] [UNK] 1 episode he is [UNK] [UNK] 1 game you are out [UNK] [UNK] br br [UNK] [UNK] keep getting [UNK] really quickly with no experience only in a tv [UNK] br i did like the [UNK] [UNK] characters wish [UNK] [UNK] could have [UNK] from [UNK] [UNK] [UNK] had a [UNK] [UNK] [UNK] [UNK] life                                                                                                                                                                                                                                                                                                                                                                                                                                                                                                                                                                                                                                                                              '"
      ]
     },
     "execution_count": 18,
     "metadata": {},
     "output_type": "execute_result"
    }
   ],
   "source": [
    "\" \".join(vocab[encoded_example[0]])"
   ]
  },
  {
   "cell_type": "code",
   "execution_count": 19,
   "metadata": {
    "id": "rHlgJLL1aNNR"
   },
   "outputs": [],
   "source": [
    "# encoder converts the text to a sequence of token indices.\n",
    "# An embedding layer stores one vector per word.\n",
    "# When called, it converts the sequences of word indices to sequences of vectors. These vectors are trainable.\n",
    "# RNN processeses sequence input by iterating through the elements.\n",
    "# RNNs pass the outputs from one timestep to their input on the next timestep.\n",
    "# Bidirectional wrapper propagates the input forward and backwards through the RNN layer\n",
    "# and then concatenates the final output.\n",
    "model = tf.keras.models.Sequential([\n",
    "    encoder,\n",
    "    tf.keras.layers.Embedding(input_dim=encoder.vocabulary_size(), output_dim=64, mask_zero=True),\n",
    "    tf.keras.layers.Bidirectional(tf.keras.layers.LSTM(64)),\n",
    "    tf.keras.layers.Dense(64, activation='relu'),\n",
    "    tf.keras.layers.Dense(1, activation='sigmoid')\n",
    "])"
   ]
  },
  {
   "cell_type": "code",
   "execution_count": 20,
   "metadata": {
    "id": "vqe1JUFMaNNS"
   },
   "outputs": [],
   "source": [
    "loss = tf.keras.losses.BinaryCrossentropy()"
   ]
  },
  {
   "cell_type": "code",
   "execution_count": 21,
   "metadata": {
    "id": "t0GM59zDaNNS"
   },
   "outputs": [],
   "source": [
    "model.compile(loss=loss, optimizer='adam', metrics=['accuracy'])"
   ]
  },
  {
   "cell_type": "code",
   "execution_count": 22,
   "metadata": {
    "colab": {
     "base_uri": "https://localhost:8080/"
    },
    "id": "YN1KEYkjaNNS",
    "outputId": "e180b022-58e9-460c-8b3d-8c52a176a12b"
   },
   "outputs": [
    {
     "name": "stdout",
     "output_type": "stream",
     "text": [
      "Epoch 1/10\n",
      "391/391 [==============================] - 110s 247ms/step - loss: 0.4528 - accuracy: 0.7762 - val_loss: 0.3607 - val_accuracy: 0.8464\n",
      "Epoch 2/10\n",
      "391/391 [==============================] - 91s 231ms/step - loss: 0.3401 - accuracy: 0.8566 - val_loss: 0.3298 - val_accuracy: 0.8495\n",
      "Epoch 3/10\n",
      "391/391 [==============================] - 91s 232ms/step - loss: 0.3243 - accuracy: 0.8636 - val_loss: 0.3282 - val_accuracy: 0.8615\n",
      "Epoch 4/10\n",
      "391/391 [==============================] - 91s 231ms/step - loss: 0.3107 - accuracy: 0.8670 - val_loss: 0.3229 - val_accuracy: 0.8599\n",
      "Epoch 5/10\n",
      "391/391 [==============================] - 93s 235ms/step - loss: 0.2903 - accuracy: 0.8777 - val_loss: 0.3353 - val_accuracy: 0.8562\n",
      "Epoch 6/10\n",
      "391/391 [==============================] - 91s 231ms/step - loss: 0.2854 - accuracy: 0.8789 - val_loss: 0.3491 - val_accuracy: 0.8568\n",
      "Epoch 7/10\n",
      "391/391 [==============================] - 93s 237ms/step - loss: 0.2691 - accuracy: 0.8872 - val_loss: 0.3422 - val_accuracy: 0.8547\n",
      "Epoch 8/10\n",
      "391/391 [==============================] - 92s 234ms/step - loss: 0.2528 - accuracy: 0.8950 - val_loss: 0.3643 - val_accuracy: 0.8667\n",
      "Epoch 9/10\n",
      "391/391 [==============================] - 94s 238ms/step - loss: 0.2345 - accuracy: 0.9041 - val_loss: 0.3541 - val_accuracy: 0.8495\n",
      "Epoch 10/10\n",
      "391/391 [==============================] - 92s 235ms/step - loss: 0.2178 - accuracy: 0.9091 - val_loss: 0.4002 - val_accuracy: 0.8469\n"
     ]
    }
   ],
   "source": [
    "history = model.fit(train_dataset, epochs=10, validation_data=test_dataset, validation_steps=30)"
   ]
  },
  {
   "cell_type": "code",
   "execution_count": 23,
   "metadata": {
    "colab": {
     "base_uri": "https://localhost:8080/"
    },
    "id": "HRVGnKOIaNNT",
    "outputId": "8da11bf6-de59-4d30-b7f8-6c0a9f66e97c"
   },
   "outputs": [
    {
     "name": "stdout",
     "output_type": "stream",
     "text": [
      "391/391 - 46s - loss: 0.3812 - accuracy: 0.8524\n"
     ]
    },
    {
     "data": {
      "text/plain": [
       "[0.3812360465526581, 0.8524399995803833]"
      ]
     },
     "execution_count": 23,
     "metadata": {},
     "output_type": "execute_result"
    }
   ],
   "source": [
    "model.evaluate(test_dataset, verbose=2)"
   ]
  },
  {
   "cell_type": "code",
   "execution_count": 25,
   "metadata": {
    "colab": {
     "base_uri": "https://localhost:8080/"
    },
    "id": "bwLi4Tofz_T5",
    "outputId": "707a9a36-83c8-4835-caa5-d8af81628bf7"
   },
   "outputs": [
    {
     "data": {
      "text/plain": [
       "array([[0.5769514]], dtype=float32)"
      ]
     },
     "execution_count": 25,
     "metadata": {},
     "output_type": "execute_result"
    }
   ],
   "source": [
    "sample_text = ('The movie was cool. The animation and the graphics '\n",
    "               'were out of this world. I would recommend this movie.')\n",
    "model.predict(np.array([sample_text]))"
   ]
  },
  {
   "cell_type": "code",
   "execution_count": 34,
   "metadata": {
    "colab": {
     "base_uri": "https://localhost:8080/"
    },
    "id": "mlZmbqZI5im8",
    "outputId": "d253d195-a4ab-489a-af9c-bb384f0e176d"
   },
   "outputs": [
    {
     "data": {
      "text/plain": [
       "array([[0.00467615]], dtype=float32)"
      ]
     },
     "execution_count": 34,
     "metadata": {},
     "output_type": "execute_result"
    }
   ],
   "source": [
    "model.predict(np.array(['The movie was horrible!']))"
   ]
  },
  {
   "cell_type": "code",
   "execution_count": null,
   "metadata": {
    "id": "_r6VwUrm5nM2"
   },
   "outputs": [],
   "source": []
  }
 ],
 "metadata": {
  "accelerator": "GPU",
  "colab": {
   "name": "sentiment-analysis.ipynb",
   "provenance": []
  },
  "kernelspec": {
   "display_name": "Python 3",
   "language": "python",
   "name": "python3"
  },
  "language_info": {
   "codemirror_mode": {
    "name": "ipython",
    "version": 3
   },
   "file_extension": ".py",
   "mimetype": "text/x-python",
   "name": "python",
   "nbconvert_exporter": "python",
   "pygments_lexer": "ipython3",
   "version": "3.7.3"
  }
 },
 "nbformat": 4,
 "nbformat_minor": 4
}
