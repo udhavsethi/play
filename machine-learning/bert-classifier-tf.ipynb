{
  "nbformat": 4,
  "nbformat_minor": 0,
  "metadata": {
    "colab": {
      "name": "bert-classification",
      "provenance": []
    },
    "kernelspec": {
      "name": "python3",
      "display_name": "Python 3"
    },
    "language_info": {
      "name": "python"
    },
    "accelerator": "GPU"
  },
  "cells": [
    {
      "cell_type": "code",
      "metadata": {
        "colab": {
          "base_uri": "https://localhost:8080/"
        },
        "id": "H1uNyERT90xI",
        "outputId": "ac23d051-d521-48c7-ad12-2a88736c7956"
      },
      "source": [
        "!pip install -q -U tensorflow-text\n",
        "!pip install -q tf-models-official"
      ],
      "execution_count": 2,
      "outputs": [
        {
          "output_type": "stream",
          "name": "stdout",
          "text": [
            "\u001b[K     |████████████████████████████████| 4.9 MB 5.4 MB/s \n",
            "\u001b[K     |████████████████████████████████| 1.8 MB 5.3 MB/s \n",
            "\u001b[K     |████████████████████████████████| 90 kB 8.6 MB/s \n",
            "\u001b[K     |████████████████████████████████| 352 kB 48.2 MB/s \n",
            "\u001b[K     |████████████████████████████████| 596 kB 41.1 MB/s \n",
            "\u001b[K     |████████████████████████████████| 213 kB 49.3 MB/s \n",
            "\u001b[K     |████████████████████████████████| 99 kB 7.6 MB/s \n",
            "\u001b[K     |████████████████████████████████| 1.1 MB 47.6 MB/s \n",
            "\u001b[K     |████████████████████████████████| 47.6 MB 37 kB/s \n",
            "\u001b[K     |████████████████████████████████| 43 kB 1.9 MB/s \n",
            "\u001b[K     |████████████████████████████████| 1.2 MB 35.1 MB/s \n",
            "\u001b[?25h  Building wheel for py-cpuinfo (setup.py) ... \u001b[?25l\u001b[?25hdone\n",
            "  Building wheel for seqeval (setup.py) ... \u001b[?25l\u001b[?25hdone\n"
          ]
        }
      ]
    },
    {
      "cell_type": "code",
      "metadata": {
        "id": "H_5H5bwK9qTi"
      },
      "source": [
        "import os\n",
        "import shutil\n",
        "\n",
        "import tensorflow as tf\n",
        "import tensorflow_hub as hub\n",
        "import tensorflow_text as text\n",
        "from official.nlp import optimization  # to create AdamW optimizer\n",
        "\n",
        "import matplotlib.pyplot as plt\n",
        "\n",
        "tf.get_logger().setLevel('ERROR')"
      ],
      "execution_count": 3,
      "outputs": []
    },
    {
      "cell_type": "code",
      "metadata": {
        "colab": {
          "base_uri": "https://localhost:8080/"
        },
        "id": "OKVrJ-kS95t0",
        "outputId": "a46af27f-cf64-45f1-ba2d-aaa23b5a0af3"
      },
      "source": [
        "# Download the IMDB dataset\n",
        "url = 'https://ai.stanford.edu/~amaas/data/sentiment/aclImdb_v1.tar.gz'\n",
        "dataset = tf.keras.utils.get_file('aclImdb_v1.tar.gz', url,\n",
        "                                  untar=True, cache_dir='.',\n",
        "                                  cache_subdir='')\n",
        "\n",
        "dataset_dir = os.path.join(os.path.dirname(dataset), 'aclImdb')\n",
        "train_dir = os.path.join(dataset_dir, 'train')\n",
        "\n",
        "# remove unused folders to make it easier to load the data\n",
        "remove_dir = os.path.join(train_dir, 'unsup')\n",
        "shutil.rmtree(remove_dir)"
      ],
      "execution_count": 4,
      "outputs": [
        {
          "output_type": "stream",
          "name": "stdout",
          "text": [
            "Downloading data from https://ai.stanford.edu/~amaas/data/sentiment/aclImdb_v1.tar.gz\n",
            "84131840/84125825 [==============================] - 5s 0us/step\n",
            "84140032/84125825 [==============================] - 5s 0us/step\n"
          ]
        }
      ]
    },
    {
      "cell_type": "code",
      "metadata": {
        "colab": {
          "base_uri": "https://localhost:8080/"
        },
        "id": "WCiDDekF-M7O",
        "outputId": "0257884b-a532-4dfe-d79a-5b4c3bf8fccd"
      },
      "source": [
        "AUTOTUNE = tf.data.AUTOTUNE\n",
        "batch_size = 32\n",
        "seed = 42\n",
        "\n",
        "raw_train_ds = tf.keras.preprocessing.text_dataset_from_directory(\n",
        "    'aclImdb/train',\n",
        "    batch_size=batch_size,\n",
        "    validation_split=0.2,\n",
        "    subset='training',\n",
        "    seed=seed)\n",
        "\n",
        "class_names = raw_train_ds.class_names\n",
        "train_ds = raw_train_ds.cache().prefetch(buffer_size=AUTOTUNE)\n",
        "\n",
        "val_ds = tf.keras.preprocessing.text_dataset_from_directory(\n",
        "    'aclImdb/train',\n",
        "    batch_size=batch_size,\n",
        "    validation_split=0.2,\n",
        "    subset='validation',\n",
        "    seed=seed)\n",
        "\n",
        "val_ds = val_ds.cache().prefetch(buffer_size=AUTOTUNE)\n",
        "\n",
        "test_ds = tf.keras.preprocessing.text_dataset_from_directory(\n",
        "    'aclImdb/test',\n",
        "    batch_size=batch_size)\n",
        "\n",
        "test_ds = test_ds.cache().prefetch(buffer_size=AUTOTUNE)"
      ],
      "execution_count": 5,
      "outputs": [
        {
          "output_type": "stream",
          "name": "stdout",
          "text": [
            "Found 25000 files belonging to 2 classes.\n",
            "Using 20000 files for training.\n",
            "Found 25000 files belonging to 2 classes.\n",
            "Using 5000 files for validation.\n",
            "Found 25000 files belonging to 2 classes.\n"
          ]
        }
      ]
    },
    {
      "cell_type": "code",
      "metadata": {
        "id": "Ap25Mwbv-sE7"
      },
      "source": [
        "# Preprocessing layer\n",
        "# Text inputs need to be transformed to numeric token ids and arranged in several Tensors before being input to BERT.\n",
        "# The preprocessing model must be the one referenced by the documentation of the BERT model\n",
        "bert_preprocess_model = hub.KerasLayer(\"https://tfhub.dev/tensorflow/bert_en_uncased_preprocess/3\")"
      ],
      "execution_count": 6,
      "outputs": []
    },
    {
      "cell_type": "code",
      "metadata": {
        "colab": {
          "base_uri": "https://localhost:8080/"
        },
        "id": "tIb3qe7V-3WA",
        "outputId": "098b610c-070b-4e04-8e1a-c498577eb241"
      },
      "source": [
        "# preprocessing trial\n",
        "# The input is truncated to 128 tokens\n",
        "# input_type_ids only have one value (0) because this is a single sentence input.\n",
        "# For a multiple sentence input, it would have one number for each input.\n",
        "# input_mask allows the model to differentiate between the content and the padding.\n",
        "# The mask has the same shape as the input ids, and contains 1 anywhere the input ids is not padding.\n",
        "text_test = ['this is such an amazing movie!']\n",
        "text_preprocessed = bert_preprocess_model(text_test)\n",
        "print(f'Keys       : {list(text_preprocessed.keys())}')\n",
        "print(f'Shape      : {text_preprocessed[\"input_word_ids\"].shape}')\n",
        "print(f'Word Ids   : {text_preprocessed[\"input_word_ids\"][0, :12]}')\n",
        "print(f'Input Mask : {text_preprocessed[\"input_mask\"][0, :12]}')\n",
        "print(f'Type Ids   : {text_preprocessed[\"input_type_ids\"][0, :12]}')"
      ],
      "execution_count": 7,
      "outputs": [
        {
          "output_type": "stream",
          "name": "stdout",
          "text": [
            "Keys       : ['input_word_ids', 'input_type_ids', 'input_mask']\n",
            "Shape      : (1, 128)\n",
            "Word Ids   : [ 101 2023 2003 2107 2019 6429 3185  999  102    0    0    0]\n",
            "Input Mask : [1 1 1 1 1 1 1 1 1 0 0 0]\n",
            "Type Ids   : [0 0 0 0 0 0 0 0 0 0 0 0]\n"
          ]
        }
      ]
    },
    {
      "cell_type": "code",
      "metadata": {
        "id": "-vVDYCsiC1jL"
      },
      "source": [
        "# model\n",
        "bert_model = hub.KerasLayer(\"https://tfhub.dev/tensorflow/small_bert/bert_en_uncased_L-4_H-512_A-8/1\")"
      ],
      "execution_count": 8,
      "outputs": []
    },
    {
      "cell_type": "code",
      "metadata": {
        "colab": {
          "base_uri": "https://localhost:8080/"
        },
        "id": "xuqVowEXFfa4",
        "outputId": "cfb75881-ad56-4abc-d8b6-4009a0abd6da"
      },
      "source": [
        "# model trial\n",
        "# pooled_output represents each input sequence as a whole. shape = [batch_size, H].\n",
        "# You can think of this as an embedding for the entire movie review.\n",
        "# sequence_output represents each input token in the context. shape = [batch_size, seq_length, H].\n",
        "# You can think of this as a contextual embedding for every token in the movie review.\n",
        "# encoder_outputs are the intermediate activations of the L Transformer blocks.\n",
        "# outputs[\"encoder_outputs\"][i] is a Tensor of shape [batch_size, seq_length, 1024]\n",
        "# with the outputs of the i-th Transformer block, for 0 <= i < L.\n",
        "# The last value of the list is equal to sequence_output.\n",
        "bert_results = bert_model(text_preprocessed)\n",
        "print(f'Keys: {bert_results.keys()}')\n",
        "print(f'Pooled Outputs Shape: {bert_results[\"pooled_output\"].shape}')\n",
        "print(f'Pooled Outputs Values:  {bert_results[\"pooled_output\"].numpy()[0, :5]}')\n",
        "print(f'Sequence Outputs Shape: {bert_results[\"sequence_output\"].shape}')\n",
        "print(f'Sequence Outputs Values:  {bert_results[\"sequence_output\"].numpy()[0, 0, :5]}')"
      ],
      "execution_count": 9,
      "outputs": [
        {
          "output_type": "stream",
          "name": "stdout",
          "text": [
            "Keys: dict_keys(['sequence_output', 'encoder_outputs', 'default', 'pooled_output'])\n",
            "Pooled Outputs Shape: (1, 512)\n",
            "Pooled Outputs Values:  [ 0.7626282   0.9928099  -0.18611862  0.3667383   0.15233758]\n",
            "Sequence Outputs Shape: (1, 128, 512)\n",
            "Sequence Outputs Values:  [-0.28946292  0.34321183  0.33231512 -1.0911367  -0.8907285 ]\n"
          ]
        }
      ]
    },
    {
      "cell_type": "code",
      "metadata": {
        "id": "QhYZ-h_ZGa0P"
      },
      "source": [
        "# Define model architecture with fine tuning layers\n",
        "PREPROCESS_PATH = \"https://tfhub.dev/tensorflow/bert_en_uncased_preprocess/3\"\n",
        "BERT_PATH = \"https://tfhub.dev/tensorflow/small_bert/bert_en_uncased_L-4_H-512_A-8/1\"\n",
        "\n",
        "def BertClassifier():\n",
        "    input_layer = tf.keras.layers.Input(shape=(), dtype=tf.string)\n",
        "    preprocessor = hub.KerasLayer(PREPROCESS_PATH)\n",
        "    bert_encoder = hub.KerasLayer(BERT_PATH, trainable=True)\n",
        "    dropout = tf.keras.layers.Dropout(0.1)\n",
        "    classifier = tf.keras.layers.Dense(1, activation='sigmoid')\n",
        "\n",
        "    x = preprocessor(input_layer)\n",
        "    x = bert_encoder(x)['pooled_output']\n",
        "    x = dropout(x)\n",
        "    x = classifier(x)\n",
        "    return tf.keras.models.Model(input_layer, x)"
      ],
      "execution_count": 47,
      "outputs": []
    },
    {
      "cell_type": "code",
      "metadata": {
        "id": "fP1DPvErT_Zc"
      },
      "source": [
        "model = BertClassifier()"
      ],
      "execution_count": 48,
      "outputs": []
    },
    {
      "cell_type": "code",
      "metadata": {
        "colab": {
          "base_uri": "https://localhost:8080/"
        },
        "id": "O4jghzSqUN-x",
        "outputId": "0ff0afea-77a6-4eb6-eb51-6d68e78ee8a0"
      },
      "source": [
        "# full model trial\n",
        "model(tf.constant(text_test)).numpy()"
      ],
      "execution_count": 49,
      "outputs": [
        {
          "output_type": "execute_result",
          "data": {
            "text/plain": [
              "array([[0.7217665]], dtype=float32)"
            ]
          },
          "metadata": {},
          "execution_count": 49
        }
      ]
    },
    {
      "cell_type": "code",
      "metadata": {
        "colab": {
          "base_uri": "https://localhost:8080/",
          "height": 466
        },
        "id": "k914BtmfU8YK",
        "outputId": "2ee71cf4-90dc-4679-ab28-07c06432023e"
      },
      "source": [
        "tf.keras.utils.plot_model(model)"
      ],
      "execution_count": 50,
      "outputs": [
        {
          "output_type": "execute_result",
          "data": {
            "image/png": "[encoded data removed]",
            "text/plain": [
              "<IPython.core.display.Image object>"
            ]
          },
          "metadata": {},
          "execution_count": 50
        }
      ]
    },
    {
      "cell_type": "code",
      "metadata": {
        "id": "yNvS8aJmXMFH"
      },
      "source": [
        "loss = tf.keras.losses.BinaryCrossentropy()"
      ],
      "execution_count": 51,
      "outputs": []
    },
    {
      "cell_type": "code",
      "metadata": {
        "id": "prd9ACsCXyW8"
      },
      "source": [
        "epochs = 5\n",
        "steps_per_epoch = tf.data.experimental.cardinality(train_ds).numpy()\n",
        "num_train_steps = steps_per_epoch * epochs\n",
        "num_warmup_steps = int(num_train_steps * 0.1)\n",
        "\n",
        "init_lr = 3e-5\n",
        "custom_adam = optimization.create_optimizer(init_lr=init_lr,\n",
        "                                          num_train_steps=num_train_steps,\n",
        "                                          num_warmup_steps=num_warmup_steps,\n",
        "                                          optimizer_type='adamw')"
      ],
      "execution_count": 52,
      "outputs": []
    },
    {
      "cell_type": "code",
      "metadata": {
        "id": "uRMyvZQJXzuq"
      },
      "source": [
        "model.compile(loss=loss, optimizer=custom_adam, metrics=tf.keras.metrics.BinaryAccuracy())"
      ],
      "execution_count": 53,
      "outputs": []
    },
    {
      "cell_type": "code",
      "metadata": {
        "colab": {
          "base_uri": "https://localhost:8080/"
        },
        "id": "x5zaCdmYYxSh",
        "outputId": "9e69d44b-7bca-45b6-95ed-f773e067237f"
      },
      "source": [
        "history = model.fit(train_ds, validation_data=val_ds, epochs=epochs)"
      ],
      "execution_count": 54,
      "outputs": [
        {
          "output_type": "stream",
          "name": "stdout",
          "text": [
            "Epoch 1/5\n",
            "625/625 [==============================] - 296s 462ms/step - loss: 0.4850 - binary_accuracy: 0.7541 - val_loss: 0.3820 - val_binary_accuracy: 0.8300\n",
            "Epoch 2/5\n",
            "625/625 [==============================] - 287s 459ms/step - loss: 0.3251 - binary_accuracy: 0.8608 - val_loss: 0.3633 - val_binary_accuracy: 0.8426\n",
            "Epoch 3/5\n",
            "625/625 [==============================] - 286s 458ms/step - loss: 0.2489 - binary_accuracy: 0.9002 - val_loss: 0.3899 - val_binary_accuracy: 0.8520\n",
            "Epoch 4/5\n",
            "625/625 [==============================] - 286s 457ms/step - loss: 0.1915 - binary_accuracy: 0.9287 - val_loss: 0.4298 - val_binary_accuracy: 0.8536\n",
            "Epoch 5/5\n",
            "625/625 [==============================] - 286s 458ms/step - loss: 0.1491 - binary_accuracy: 0.9466 - val_loss: 0.4767 - val_binary_accuracy: 0.8552\n"
          ]
        }
      ]
    },
    {
      "cell_type": "code",
      "metadata": {
        "colab": {
          "base_uri": "https://localhost:8080/"
        },
        "id": "4aNzedPqY-8v",
        "outputId": "ba1fe20c-8532-454d-8fb7-b0f41d505d55"
      },
      "source": [
        "model.evaluate(test_ds, verbose=2)"
      ],
      "execution_count": 55,
      "outputs": [
        {
          "output_type": "stream",
          "name": "stdout",
          "text": [
            "782/782 - 145s - loss: 0.4661 - binary_accuracy: 0.8576 - 145s/epoch - 186ms/step\n"
          ]
        },
        {
          "output_type": "execute_result",
          "data": {
            "text/plain": [
              "[0.466109037399292, 0.8576400279998779]"
            ]
          },
          "metadata": {},
          "execution_count": 55
        }
      ]
    },
    {
      "cell_type": "code",
      "metadata": {
        "id": "uxmeABzTc7xa"
      },
      "source": [
        ""
      ],
      "execution_count": null,
      "outputs": []
    }
  ]
}