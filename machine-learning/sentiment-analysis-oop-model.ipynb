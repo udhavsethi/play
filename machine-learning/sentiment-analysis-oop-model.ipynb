{
  "nbformat": 4,
  "nbformat_minor": 0,
  "metadata": {
    "kernelspec": {
      "display_name": "Python 3",
      "language": "python",
      "name": "python3"
    },
    "language_info": {
      "codemirror_mode": {
        "name": "ipython",
        "version": 3
      },
      "file_extension": ".py",
      "mimetype": "text/x-python",
      "name": "python",
      "nbconvert_exporter": "python",
      "pygments_lexer": "ipython3",
      "version": "3.7.3"
    },
    "colab": {
      "name": "sentiment-analysis-oop-model.ipynb",
      "provenance": []
    },
    "accelerator": "GPU"
  },
  "cells": [
    {
      "cell_type": "code",
      "metadata": {
        "id": "H2doCBVXGaHy"
      },
      "source": [
        "import tensorflow as tf\n",
        "import numpy as np\n",
        "import tensorflow_datasets as tfds\n",
        "from tensorflow.keras.models import Model"
      ],
      "execution_count": 1,
      "outputs": []
    },
    {
      "cell_type": "code",
      "metadata": {
        "id": "ExmWmHhqGaH5"
      },
      "source": [
        "tfds.disable_progress_bar()"
      ],
      "execution_count": 2,
      "outputs": []
    },
    {
      "cell_type": "code",
      "metadata": {
        "id": "n7bG6Sb4GaH5"
      },
      "source": [
        "dataset = tfds.load('imdb_reviews', as_supervised=True)"
      ],
      "execution_count": 3,
      "outputs": []
    },
    {
      "cell_type": "code",
      "metadata": {
        "id": "eSmX6uPmGaH6"
      },
      "source": [
        "train_dataset, test_dataset = dataset['train'], dataset['test']"
      ],
      "execution_count": 4,
      "outputs": []
    },
    {
      "cell_type": "code",
      "metadata": {
        "id": "79yLNKsuGaH6"
      },
      "source": [
        "BUFFER_SIZE = 1000\n",
        "BATCH_SIZE = 64\n",
        "train_dataset = train_dataset.shuffle(BUFFER_SIZE).batch(BATCH_SIZE).prefetch(tf.data.AUTOTUNE)\n",
        "test_dataset = test_dataset.batch(BATCH_SIZE).prefetch(tf.data.AUTOTUNE)"
      ],
      "execution_count": 5,
      "outputs": []
    },
    {
      "cell_type": "code",
      "metadata": {
        "id": "nIKfOKPOGaH7"
      },
      "source": [
        "class SentModel(tf.keras.models.Model):\n",
        "    def __init__(self, encoder):\n",
        "        super(SentModel, self).__init__()\n",
        "        self.model = tf.keras.models.Sequential([\n",
        "            encoder,\n",
        "            tf.keras.layers.Embedding(input_dim=encoder.vocabulary_size(), output_dim=64, mask_zero=True),\n",
        "            tf.keras.layers.Bidirectional(tf.keras.layers.LSTM(64)),\n",
        "            tf.keras.layers.Dense(64, activation='relu'),\n",
        "            tf.keras.layers.Dense(1, activation='sigmoid')\n",
        "        ])\n",
        "\n",
        "    def call(self, x):\n",
        "        return self.model(x)"
      ],
      "execution_count": 7,
      "outputs": []
    },
    {
      "cell_type": "code",
      "metadata": {
        "id": "WCoc0TJ7GaH8"
      },
      "source": [
        "# encoder has to be \"adapted\" first before making it a part of the network architecture\n",
        "VOCAB_SIZE = 1000\n",
        "encoder = tf.keras.layers.TextVectorization(max_tokens=VOCAB_SIZE)\n",
        "encoder.adapt(train_dataset.map(lambda text,labels: text))"
      ],
      "execution_count": 8,
      "outputs": []
    },
    {
      "cell_type": "code",
      "metadata": {
        "id": "cG80u1e-GaH8"
      },
      "source": [
        "model = SentModel(encoder)"
      ],
      "execution_count": 9,
      "outputs": []
    },
    {
      "cell_type": "code",
      "metadata": {
        "id": "q-wVwoDKGaH9"
      },
      "source": [
        "loss = tf.keras.losses.BinaryCrossentropy()"
      ],
      "execution_count": 10,
      "outputs": []
    },
    {
      "cell_type": "code",
      "metadata": {
        "id": "e7zxKcedGaH-"
      },
      "source": [
        "model.compile(loss=loss, optimizer='adam', metrics=['accuracy'])"
      ],
      "execution_count": 11,
      "outputs": []
    },
    {
      "cell_type": "code",
      "metadata": {
        "colab": {
          "base_uri": "https://localhost:8080/"
        },
        "id": "zxIAW9PvGaH-",
        "outputId": "1ab1ca6a-9cb5-4f15-eaa9-ca24aa2cae1a"
      },
      "source": [
        "history = model.fit(train_dataset, epochs=5, validation_data=test_dataset, validation_steps=30)"
      ],
      "execution_count": 12,
      "outputs": [
        {
          "output_type": "stream",
          "name": "stdout",
          "text": [
            "Epoch 1/5\n",
            "391/391 [==============================] - 111s 257ms/step - loss: 0.4628 - accuracy: 0.7676 - val_loss: 0.3714 - val_accuracy: 0.8328\n",
            "Epoch 2/5\n",
            "391/391 [==============================] - 93s 238ms/step - loss: 0.3396 - accuracy: 0.8549 - val_loss: 0.3534 - val_accuracy: 0.8385\n",
            "Epoch 3/5\n",
            "391/391 [==============================] - 94s 241ms/step - loss: 0.3199 - accuracy: 0.8653 - val_loss: 0.3424 - val_accuracy: 0.8479\n",
            "Epoch 4/5\n",
            "391/391 [==============================] - 94s 240ms/step - loss: 0.2986 - accuracy: 0.8747 - val_loss: 0.3522 - val_accuracy: 0.8438\n",
            "Epoch 5/5\n",
            "391/391 [==============================] - 92s 235ms/step - loss: 0.2855 - accuracy: 0.8800 - val_loss: 0.3783 - val_accuracy: 0.8354\n"
          ]
        }
      ]
    },
    {
      "cell_type": "markdown",
      "metadata": {
        "id": "Ir59d0xSvkHk"
      },
      "source": [
        ""
      ]
    }
  ]
}