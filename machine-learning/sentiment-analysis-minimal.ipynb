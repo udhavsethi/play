{
 "cells": [
  {
   "cell_type": "code",
   "execution_count": 1,
   "metadata": {
    "id": "_iq4gmqdaNM8"
   },
   "outputs": [],
   "source": [
    "import tensorflow as tf\n",
    "import numpy as np\n",
    "import tensorflow_datasets as tfds"
   ]
  },
  {
   "cell_type": "code",
   "execution_count": 2,
   "metadata": {
    "id": "YfZAlvpuaNNF"
   },
   "outputs": [],
   "source": [
    "########## Dataset ##########"
   ]
  },
  {
   "cell_type": "code",
   "execution_count": 3,
   "metadata": {
    "id": "8mf7L9yeaNNG"
   },
   "outputs": [],
   "source": [
    "tfds.disable_progress_bar()"
   ]
  },
  {
   "cell_type": "code",
   "execution_count": 10,
   "metadata": {
    "colab": {
     "base_uri": "https://localhost:8080/"
    },
    "id": "rzFkNoEMaNNH",
    "outputId": "e40822c6-e28b-4ad5-cfa0-6fe6a9ca7061"
   },
   "outputs": [],
   "source": [
    "dataset = tfds.load('imdb_reviews', as_supervised=True)"
   ]
  },
  {
   "cell_type": "code",
   "execution_count": 11,
   "metadata": {
    "id": "aDmDJbcSaNNK"
   },
   "outputs": [],
   "source": [
    "train_dataset, test_dataset = dataset['train'], dataset['test']"
   ]
  },
  {
   "cell_type": "code",
   "execution_count": 12,
   "metadata": {
    "id": "8lM2AHgUaNNN"
   },
   "outputs": [],
   "source": [
    "BUFFER_SIZE = 10000\n",
    "BATCH_SIZE = 64"
   ]
  },
  {
   "cell_type": "code",
   "execution_count": 13,
   "metadata": {
    "id": "CrZA7aFFaNNO"
   },
   "outputs": [],
   "source": [
    "# shuffle  - fills a buffer with `buffer_size` elements, then randomly samples elements\n",
    "#            from this buffer, replacing the selected elements with new elements.\n",
    "# batch    - combines consecutive elements of this dataset into batches.\n",
    "# prefetch - allows later elements to be prepared while the current element is being processed\n",
    "\n",
    "train_dataset = train_dataset.shuffle(BUFFER_SIZE).batch(BATCH_SIZE).prefetch(tf.data.AUTOTUNE)\n",
    "test_dataset = test_dataset.batch(BATCH_SIZE).prefetch(tf.data.AUTOTUNE)"
   ]
  },
  {
   "cell_type": "code",
   "execution_count": 13,
   "metadata": {
    "id": "6UyGunYvaNNP"
   },
   "outputs": [],
   "source": [
    "########## Model ##########"
   ]
  },
  {
   "cell_type": "code",
   "execution_count": 16,
   "metadata": {
    "id": "Ezv4pneDaNNP"
   },
   "outputs": [],
   "source": [
    "VOCAB_SIZE = 1000\n",
    "# max_tokens is the maximum size of the vocabulary for this layer.\n",
    "# The tensors of indices are 0-padded to the longest sequence in the batch (unless you set a fixed output_sequence_length\n",
    "encoder = tf.keras.layers.TextVectorization(max_tokens=VOCAB_SIZE)\n",
    "encoder.adapt(train_dataset.map(lambda text, label: text))"
   ]
  },
  {
   "cell_type": "code",
   "execution_count": 17,
   "metadata": {
    "id": "rHlgJLL1aNNR"
   },
   "outputs": [],
   "source": [
    "model = tf.keras.models.Sequential([\n",
    "    encoder,\n",
    "    tf.keras.layers.Embedding(input_dim=encoder.vocabulary_size(), output_dim=64, mask_zero=True),\n",
    "    tf.keras.layers.Bidirectional(tf.keras.layers.LSTM(64)),\n",
    "    tf.keras.layers.Dense(64, activation='relu'),\n",
    "    tf.keras.layers.Dense(1, activation='sigmoid')\n",
    "])"
   ]
  },
  {
   "cell_type": "code",
   "execution_count": 18,
   "metadata": {
    "id": "vqe1JUFMaNNS"
   },
   "outputs": [],
   "source": [
    "loss = tf.keras.losses.BinaryCrossentropy()"
   ]
  },
  {
   "cell_type": "code",
   "execution_count": 19,
   "metadata": {
    "id": "t0GM59zDaNNS"
   },
   "outputs": [],
   "source": [
    "model.compile(loss=loss, optimizer='adam', metrics=['accuracy'])"
   ]
  },
  {
   "cell_type": "code",
   "execution_count": 22,
   "metadata": {
    "colab": {
     "base_uri": "https://localhost:8080/"
    },
    "id": "YN1KEYkjaNNS",
    "outputId": "e180b022-58e9-460c-8b3d-8c52a176a12b"
   },
   "outputs": [
    {
     "name": "stdout",
     "output_type": "stream",
     "text": [
      "Epoch 1/10\n",
      "391/391 [==============================] - 110s 247ms/step - loss: 0.4528 - accuracy: 0.7762 - val_loss: 0.3607 - val_accuracy: 0.8464\n",
      "Epoch 2/10\n",
      "391/391 [==============================] - 91s 231ms/step - loss: 0.3401 - accuracy: 0.8566 - val_loss: 0.3298 - val_accuracy: 0.8495\n",
      "Epoch 3/10\n",
      "391/391 [==============================] - 91s 232ms/step - loss: 0.3243 - accuracy: 0.8636 - val_loss: 0.3282 - val_accuracy: 0.8615\n",
      "Epoch 4/10\n",
      "391/391 [==============================] - 91s 231ms/step - loss: 0.3107 - accuracy: 0.8670 - val_loss: 0.3229 - val_accuracy: 0.8599\n",
      "Epoch 5/10\n",
      "391/391 [==============================] - 93s 235ms/step - loss: 0.2903 - accuracy: 0.8777 - val_loss: 0.3353 - val_accuracy: 0.8562\n",
      "Epoch 6/10\n",
      "391/391 [==============================] - 91s 231ms/step - loss: 0.2854 - accuracy: 0.8789 - val_loss: 0.3491 - val_accuracy: 0.8568\n",
      "Epoch 7/10\n",
      "391/391 [==============================] - 93s 237ms/step - loss: 0.2691 - accuracy: 0.8872 - val_loss: 0.3422 - val_accuracy: 0.8547\n",
      "Epoch 8/10\n",
      "391/391 [==============================] - 92s 234ms/step - loss: 0.2528 - accuracy: 0.8950 - val_loss: 0.3643 - val_accuracy: 0.8667\n",
      "Epoch 9/10\n",
      "391/391 [==============================] - 94s 238ms/step - loss: 0.2345 - accuracy: 0.9041 - val_loss: 0.3541 - val_accuracy: 0.8495\n",
      "Epoch 10/10\n",
      "391/391 [==============================] - 92s 235ms/step - loss: 0.2178 - accuracy: 0.9091 - val_loss: 0.4002 - val_accuracy: 0.8469\n"
     ]
    }
   ],
   "source": [
    "history = model.fit(train_dataset, epochs=10, validation_data=test_dataset, validation_steps=30)"
   ]
  },
  {
   "cell_type": "code",
   "execution_count": 23,
   "metadata": {
    "colab": {
     "base_uri": "https://localhost:8080/"
    },
    "id": "HRVGnKOIaNNT",
    "outputId": "8da11bf6-de59-4d30-b7f8-6c0a9f66e97c"
   },
   "outputs": [
    {
     "name": "stdout",
     "output_type": "stream",
     "text": [
      "391/391 - 46s - loss: 0.3812 - accuracy: 0.8524\n"
     ]
    },
    {
     "data": {
      "text/plain": [
       "[0.3812360465526581, 0.8524399995803833]"
      ]
     },
     "execution_count": 23,
     "metadata": {},
     "output_type": "execute_result"
    }
   ],
   "source": [
    "model.evaluate(test_dataset, verbose=2)"
   ]
  },
  {
   "cell_type": "code",
   "execution_count": 25,
   "metadata": {
    "colab": {
     "base_uri": "https://localhost:8080/"
    },
    "id": "bwLi4Tofz_T5",
    "outputId": "707a9a36-83c8-4835-caa5-d8af81628bf7"
   },
   "outputs": [
    {
     "data": {
      "text/plain": [
       "array([[0.5769514]], dtype=float32)"
      ]
     },
     "execution_count": 25,
     "metadata": {},
     "output_type": "execute_result"
    }
   ],
   "source": [
    "sample_text = ('The movie was cool. The animation and the graphics '\n",
    "               'were out of this world. I would recommend this movie.')\n",
    "model.predict(np.array([sample_text]))"
   ]
  },
  {
   "cell_type": "code",
   "execution_count": 34,
   "metadata": {
    "colab": {
     "base_uri": "https://localhost:8080/"
    },
    "id": "mlZmbqZI5im8",
    "outputId": "d253d195-a4ab-489a-af9c-bb384f0e176d"
   },
   "outputs": [
    {
     "data": {
      "text/plain": [
       "array([[0.00467615]], dtype=float32)"
      ]
     },
     "execution_count": 34,
     "metadata": {},
     "output_type": "execute_result"
    }
   ],
   "source": [
    "model.predict(np.array(['The movie was horrible!']))"
   ]
  },
  {
   "cell_type": "code",
   "execution_count": null,
   "metadata": {
    "id": "_r6VwUrm5nM2"
   },
   "outputs": [],
   "source": []
  }
 ],
 "metadata": {
  "accelerator": "GPU",
  "colab": {
   "name": "sentiment-analysis.ipynb",
   "provenance": []
  },
  "kernelspec": {
   "display_name": "Python 3",
   "language": "python",
   "name": "python3"
  },
  "language_info": {
   "codemirror_mode": {
    "name": "ipython",
    "version": 3
   },
   "file_extension": ".py",
   "mimetype": "text/x-python",
   "name": "python",
   "nbconvert_exporter": "python",
   "pygments_lexer": "ipython3",
   "version": "3.7.3"
  }
 },
 "nbformat": 4,
 "nbformat_minor": 4
}
