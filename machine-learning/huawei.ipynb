{
 "cells": [
  {
   "cell_type": "code",
   "execution_count": 3,
   "metadata": {},
   "outputs": [],
   "source": [
    "import os\n",
    "import numpy as np\n",
    "import math"
   ]
  },
  {
   "cell_type": "code",
   "execution_count": 58,
   "metadata": {},
   "outputs": [],
   "source": [
    "def softmax(lst):\n",
    "    lst_exps = np.exp(np.array(lst))\n",
    "    return np.round(lst_exps/ np.sum(lst_exps), 2)"
   ]
  },
  {
   "cell_type": "code",
   "execution_count": 59,
   "metadata": {},
   "outputs": [
    {
     "data": {
      "text/plain": [
       "array([0.84, 0.11, 0.05])"
      ]
     },
     "execution_count": 59,
     "metadata": {},
     "output_type": "execute_result"
    }
   ],
   "source": [
    "softmax([3.0, 1.0, 0.2])"
   ]
  },
  {
   "cell_type": "code",
   "execution_count": null,
   "metadata": {},
   "outputs": [],
   "source": []
  },
  {
   "cell_type": "code",
   "execution_count": 13,
   "metadata": {},
   "outputs": [],
   "source": [
    "# el.%2f for el in out"
   ]
  },
  {
   "cell_type": "code",
   "execution_count": 14,
   "metadata": {},
   "outputs": [],
   "source": [
    "def listsum(lst, tsum):\n",
    "    seen = set()\n",
    "    for el in lst:\n",
    "        if (tsum-el) not in seen:\n",
    "            seen.add(el)\n",
    "        else:\n",
    "            return (el, tsum-el)\n",
    "    return (-1, -1)"
   ]
  },
  {
   "cell_type": "code",
   "execution_count": 15,
   "metadata": {},
   "outputs": [
    {
     "data": {
      "text/plain": [
       "(6, 5)"
      ]
     },
     "execution_count": 15,
     "metadata": {},
     "output_type": "execute_result"
    }
   ],
   "source": [
    "listsum([1,3,5,6,19,10], 11)"
   ]
  },
  {
   "cell_type": "code",
   "execution_count": 42,
   "metadata": {},
   "outputs": [],
   "source": []
  },
  {
   "cell_type": "code",
   "execution_count": 45,
   "metadata": {},
   "outputs": [],
   "source": [
    "arr = [1,0,2,3,0,4,5,0]\n",
    "def duplicate_zeros(lst):\n",
    "    i=0\n",
    "    while i < len(lst)-1:\n",
    "        if lst[i] == 0:\n",
    "            for j in range(i+1, len(lst)-1)[::-1]:\n",
    "                lst[j+1] = lst[j]\n",
    "            lst[i+1] = 0\n",
    "            i += 1\n",
    "        i += 1\n",
    "    return lst"
   ]
  },
  {
   "cell_type": "code",
   "execution_count": 73,
   "metadata": {},
   "outputs": [],
   "source": [
    "arr = [1,0,2,3,0,4,5,0]\n",
    "def duplicate_zeros(lst):\n",
    "    i=0\n",
    "    while i < len(lst)-1:\n",
    "        if lst[i] == 0:\n",
    "            for j in range(i+1, len(lst)-1)[::-1]:\n",
    "                lst[j+1] = lst[j]\n",
    "            lst[i+1] = 0\n",
    "            i += 1\n",
    "        i += 1\n",
    "    return lst"
   ]
  },
  {
   "cell_type": "code",
   "execution_count": 74,
   "metadata": {},
   "outputs": [
    {
     "data": {
      "text/plain": [
       "[1, 0, 0, 2, 3, 0, 0, 4]"
      ]
     },
     "execution_count": 74,
     "metadata": {},
     "output_type": "execute_result"
    }
   ],
   "source": [
    "duplicate_zeros(arr)"
   ]
  },
  {
   "cell_type": "code",
   "execution_count": 89,
   "metadata": {},
   "outputs": [],
   "source": [
    "arr = [1,0,2,3,0,4,5,0]\n",
    "def duplicate_zeros2(lst):\n",
    "    count = 0\n",
    "    for i in range(len(lst)):\n",
    "        if lst[i] == 0:\n",
    "            count += 1\n",
    "\n",
    "    j=len(lst)-1\n",
    "    while j-count>=0:\n",
    "        if lst[j] == 0:\n",
    "            count -= 1\n",
    "        lst[j] = lst[j-count]\n",
    "        if lst[j-count] == 0:\n",
    "            j -= 1\n",
    "            lst[j] = 0\n",
    "        j -= 1\n",
    "    return lst"
   ]
  },
  {
   "cell_type": "code",
   "execution_count": 90,
   "metadata": {},
   "outputs": [
    {
     "data": {
      "text/plain": [
       "[1, 0, 0, 2, 3, 0, 0, 4]"
      ]
     },
     "execution_count": 90,
     "metadata": {},
     "output_type": "execute_result"
    }
   ],
   "source": [
    "duplicate_zeros2(arr)"
   ]
  },
  {
   "cell_type": "code",
   "execution_count": null,
   "metadata": {},
   "outputs": [],
   "source": []
  },
  {
   "cell_type": "code",
   "execution_count": null,
   "metadata": {},
   "outputs": [],
   "source": [
    "[1,3,5], 5"
   ]
  },
  {
   "cell_type": "code",
   "execution_count": 62,
   "metadata": {},
   "outputs": [],
   "source": [
    "def jumping_frog(steps, final):\n",
    "    if final in steps:\n",
    "        rem_steps = [x for x in steps if x != final]\n",
    "        total=0\n",
    "        for rem_step in rem_steps:\n",
    "            if rem_step < final:\n",
    "                total += jumping_frog(steps, final-rem_step)\n",
    "        return 1 + total\n",
    "    total = 0\n",
    "    for step in steps:\n",
    "        total += jumping_frog(steps, final-step)\n",
    "    return total"
   ]
  },
  {
   "cell_type": "code",
   "execution_count": null,
   "metadata": {},
   "outputs": [],
   "source": [
    "jumping_frog([1,3,5],5)"
   ]
  },
  {
   "cell_type": "code",
   "execution_count": null,
   "metadata": {},
   "outputs": [],
   "source": []
  },
  {
   "cell_type": "code",
   "execution_count": null,
   "metadata": {},
   "outputs": [],
   "source": []
  },
  {
   "cell_type": "code",
   "execution_count": null,
   "metadata": {},
   "outputs": [],
   "source": []
  },
  {
   "cell_type": "code",
   "execution_count": 91,
   "metadata": {},
   "outputs": [
    {
     "name": "stdout",
     "output_type": "stream",
     "text": [
      "before:  [1]\n",
      "after:  [1, 5]\n"
     ]
    }
   ],
   "source": [
    "def foo(lst):\n",
    "    lst.append(5)\n",
    "\n",
    "l = [1]\n",
    "print('before: ', l)\n",
    "foo(l)\n",
    "print('after: ', l)"
   ]
  },
  {
   "cell_type": "code",
   "execution_count": null,
   "metadata": {},
   "outputs": [],
   "source": []
  }
 ],
 "metadata": {
  "kernelspec": {
   "display_name": "Python 3",
   "language": "python",
   "name": "python3"
  },
  "language_info": {
   "codemirror_mode": {
    "name": "ipython",
    "version": 3
   },
   "file_extension": ".py",
   "mimetype": "text/x-python",
   "name": "python",
   "nbconvert_exporter": "python",
   "pygments_lexer": "ipython3",
   "version": "3.7.3"
  }
 },
 "nbformat": 4,
 "nbformat_minor": 4
}
