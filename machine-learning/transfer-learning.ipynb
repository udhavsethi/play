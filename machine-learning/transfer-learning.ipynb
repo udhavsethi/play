{
 "cells": [
  {
   "cell_type": "code",
   "execution_count": 56,
   "metadata": {},
   "outputs": [],
   "source": [
    "import tensorflow as tf\n",
    "import numpy as np\n",
    "import tensorflow_datasets as tfds\n",
    "import tensorflow_hub as hub"
   ]
  },
  {
   "cell_type": "code",
   "execution_count": 57,
   "metadata": {},
   "outputs": [],
   "source": [
    "# By using batch_size=-1, you can load the full dataset in a single batch\n",
    "train_data, test_data = tfds.load(\"imdb_reviews\", split=[\"train\", \"test\"], batch_size=-1, as_supervised=True)"
   ]
  },
  {
   "cell_type": "code",
   "execution_count": 59,
   "metadata": {},
   "outputs": [],
   "source": [
    "train_examples, train_labels = tfds.as_numpy(train_data)\n",
    "test_examples, test_labels = tfds.as_numpy(test_data)"
   ]
  },
  {
   "cell_type": "code",
   "execution_count": 71,
   "metadata": {},
   "outputs": [],
   "source": [
    "model_path = \"https://tfhub.dev/google/nnlm-en-dim50/2\"\n",
    "# input_shape=[]     # Expects a tensor of shape [batch_size] as input.\n",
    "# dtype=tf.string    # Expects a tf.string input tensor.\n",
    "hub_layer = hub.KerasLayer(model_path, trainable=True, input_shape=[], dtype=tf.string)"
   ]
  },
  {
   "cell_type": "code",
   "execution_count": 73,
   "metadata": {},
   "outputs": [],
   "source": [
    "model = tf.keras.models.Sequential([\n",
    "    hub_layer,\n",
    "    tf.keras.layers.Dropout(0.2),\n",
    "    tf.keras.layers.Dense(16, activation='relu', kernel_regularizer=tf.keras.regularizers.l1_l2()),\n",
    "    tf.keras.layers.Dropout(0.2),\n",
    "    tf.keras.layers.Dense(1, activation='sigmoid')\n",
    "])"
   ]
  },
  {
   "cell_type": "code",
   "execution_count": 74,
   "metadata": {},
   "outputs": [
    {
     "name": "stdout",
     "output_type": "stream",
     "text": [
      "Model: \"sequential_8\"\n",
      "_________________________________________________________________\n",
      "Layer (type)                 Output Shape              Param #   \n",
      "=================================================================\n",
      "keras_layer_7 (KerasLayer)   (None, 50)                48190600  \n",
      "_________________________________________________________________\n",
      "dropout_4 (Dropout)          (None, 50)                0         \n",
      "_________________________________________________________________\n",
      "dense_16 (Dense)             (None, 16)                816       \n",
      "_________________________________________________________________\n",
      "dropout_5 (Dropout)          (None, 16)                0         \n",
      "_________________________________________________________________\n",
      "dense_17 (Dense)             (None, 1)                 17        \n",
      "=================================================================\n",
      "Total params: 48,191,433\n",
      "Trainable params: 48,191,433\n",
      "Non-trainable params: 0\n",
      "_________________________________________________________________\n"
     ]
    }
   ],
   "source": [
    "model.summary()"
   ]
  },
  {
   "cell_type": "code",
   "execution_count": 75,
   "metadata": {},
   "outputs": [],
   "source": [
    "loss = tf.keras.losses.BinaryCrossentropy()"
   ]
  },
  {
   "cell_type": "code",
   "execution_count": 76,
   "metadata": {},
   "outputs": [],
   "source": [
    "model.compile(loss=loss, optimizer='adam', metrics=['accuracy'])"
   ]
  },
  {
   "cell_type": "code",
   "execution_count": 77,
   "metadata": {},
   "outputs": [
    {
     "name": "stdout",
     "output_type": "stream",
     "text": [
      "Epoch 1/10\n",
      "49/49 [==============================] - 36s 710ms/step - loss: 1.9486 - accuracy: 0.5747 - val_loss: 1.6756 - val_accuracy: 0.7249\n",
      "Epoch 2/10\n",
      "49/49 [==============================] - 34s 692ms/step - loss: 1.4841 - accuracy: 0.7054 - val_loss: 1.2819 - val_accuracy: 0.7873\n",
      "Epoch 3/10\n",
      "49/49 [==============================] - 34s 697ms/step - loss: 1.1327 - accuracy: 0.7778 - val_loss: 0.9895 - val_accuracy: 0.8195\n",
      "Epoch 4/10\n",
      "49/49 [==============================] - 34s 701ms/step - loss: 0.8726 - accuracy: 0.8156 - val_loss: 0.7794 - val_accuracy: 0.8361\n",
      "Epoch 5/10\n",
      "49/49 [==============================] - 34s 694ms/step - loss: 0.6904 - accuracy: 0.8480 - val_loss: 0.6404 - val_accuracy: 0.8475\n",
      "Epoch 6/10\n",
      "49/49 [==============================] - 34s 688ms/step - loss: 0.5708 - accuracy: 0.8677 - val_loss: 0.5575 - val_accuracy: 0.8550\n",
      "Epoch 7/10\n",
      "49/49 [==============================] - 35s 707ms/step - loss: 0.5043 - accuracy: 0.8774 - val_loss: 0.5159 - val_accuracy: 0.8603\n",
      "Epoch 8/10\n",
      "49/49 [==============================] - 34s 698ms/step - loss: 0.4650 - accuracy: 0.8898 - val_loss: 0.4921 - val_accuracy: 0.8640\n",
      "Epoch 9/10\n",
      "49/49 [==============================] - 34s 692ms/step - loss: 0.4370 - accuracy: 0.8983 - val_loss: 0.4741 - val_accuracy: 0.8668\n",
      "Epoch 10/10\n",
      "49/49 [==============================] - 34s 694ms/step - loss: 0.4138 - accuracy: 0.9076 - val_loss: 0.4621 - val_accuracy: 0.8676\n"
     ]
    },
    {
     "data": {
      "text/plain": [
       "<keras.callbacks.History at 0x7fcaad80d7f0>"
      ]
     },
     "execution_count": 77,
     "metadata": {},
     "output_type": "execute_result"
    }
   ],
   "source": [
    "# with l1_l2 norm and dropout\n",
    "model.fit(train_examples, train_labels, epochs=10, batch_size=512, validation_data=(test_examples, test_labels))"
   ]
  },
  {
   "cell_type": "code",
   "execution_count": 55,
   "metadata": {},
   "outputs": [
    {
     "name": "stdout",
     "output_type": "stream",
     "text": [
      "Epoch 1/10\n",
      "49/49 [==============================] - 35s 707ms/step - loss: 0.3409 - accuracy: 0.8746 - val_loss: 0.3497 - val_accuracy: 0.8535\n",
      "Epoch 2/10\n",
      "49/49 [==============================] - 36s 729ms/step - loss: 0.2368 - accuracy: 0.9179 - val_loss: 0.3132 - val_accuracy: 0.8663\n",
      "Epoch 3/10\n",
      "49/49 [==============================] - 37s 751ms/step - loss: 0.1696 - accuracy: 0.9448 - val_loss: 0.3082 - val_accuracy: 0.8682\n",
      "Epoch 4/10\n",
      "49/49 [==============================] - 36s 730ms/step - loss: 0.1220 - accuracy: 0.9643 - val_loss: 0.3106 - val_accuracy: 0.8702\n",
      "Epoch 5/10\n",
      "49/49 [==============================] - 33s 685ms/step - loss: 0.0872 - accuracy: 0.9790 - val_loss: 0.3297 - val_accuracy: 0.8650\n",
      "Epoch 6/10\n",
      "49/49 [==============================] - 35s 712ms/step - loss: 0.0622 - accuracy: 0.9872 - val_loss: 0.3449 - val_accuracy: 0.8637\n",
      "Epoch 7/10\n",
      "49/49 [==============================] - 8316s 173s/step - loss: 0.0429 - accuracy: 0.9930 - val_loss: 0.3735 - val_accuracy: 0.8604\n",
      "Epoch 8/10\n",
      "49/49 [==============================] - 42s 858ms/step - loss: 0.0289 - accuracy: 0.9970 - val_loss: 0.4016 - val_accuracy: 0.8589\n",
      "Epoch 9/10\n",
      "49/49 [==============================] - 50s 1s/step - loss: 0.0200 - accuracy: 0.9987 - val_loss: 0.4323 - val_accuracy: 0.8562\n",
      "Epoch 10/10\n",
      "49/49 [==============================] - 42s 838ms/step - loss: 0.0140 - accuracy: 0.9993 - val_loss: 0.4552 - val_accuracy: 0.8552\n"
     ]
    },
    {
     "data": {
      "text/plain": [
       "<keras.callbacks.History at 0x7fcaaa9b2ac8>"
      ]
     },
     "execution_count": 55,
     "metadata": {},
     "output_type": "execute_result"
    }
   ],
   "source": [
    "# without regularization\n",
    "model.fit(train_examples, train_labels, epochs=10, batch_size=512, validation_data=(test_examples, test_labels))"
   ]
  }
 ],
 "metadata": {
  "kernelspec": {
   "display_name": "Python 3",
   "language": "python",
   "name": "python3"
  },
  "language_info": {
   "codemirror_mode": {
    "name": "ipython",
    "version": 3
   },
   "file_extension": ".py",
   "mimetype": "text/x-python",
   "name": "python",
   "nbconvert_exporter": "python",
   "pygments_lexer": "ipython3",
   "version": "3.7.3"
  }
 },
 "nbformat": 4,
 "nbformat_minor": 4
}
