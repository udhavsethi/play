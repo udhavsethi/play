{
 "cells": [
  {
   "cell_type": "code",
   "execution_count": 4,
   "metadata": {},
   "outputs": [],
   "source": [
    "import tensorflow as tf\n",
    "import numpy as np\n",
    "import tensorflow_datasets as tfds\n",
    "import tensorflow_hub as hub"
   ]
  },
  {
   "cell_type": "code",
   "execution_count": 46,
   "metadata": {},
   "outputs": [],
   "source": [
    "train_data, test_data = tfds.load(\"imdb_reviews\", split=[\"train\", \"test\"], batch_size=-1, as_supervised=True)"
   ]
  },
  {
   "cell_type": "code",
   "execution_count": 47,
   "metadata": {},
   "outputs": [],
   "source": [
    "# BUFFER_SIZE = 1000\n",
    "# BATCH_SIZE = 64\n",
    "# train_data = train_data.shuffle(BUFFER_SIZE).batch(BATCH_SIZE).prefetch(tf.data.AUTOTUNE)\n",
    "# test_data = test_data.batch(BATCH_SIZE).prefetch(tf.data.AUTOTUNE)"
   ]
  },
  {
   "cell_type": "code",
   "execution_count": 48,
   "metadata": {},
   "outputs": [],
   "source": [
    "train_examples, train_labels = tfds.as_numpy(train_data)\n",
    "test_examples, test_labels = tfds.as_numpy(test_data)"
   ]
  },
  {
   "cell_type": "code",
   "execution_count": 49,
   "metadata": {},
   "outputs": [],
   "source": [
    "model_path = \"https://tfhub.dev/google/nnlm-en-dim50/2\"\n",
    "hub_layer = hub.KerasLayer(model_path, trainable=True, input_shape=[], dtype=tf.string)"
   ]
  },
  {
   "cell_type": "code",
   "execution_count": 50,
   "metadata": {},
   "outputs": [],
   "source": [
    "model = tf.keras.models.Sequential([\n",
    "    hub_layer,\n",
    "    tf.keras.layers.Dense(16, activation='relu'),\n",
    "    tf.keras.layers.Dense(1, activation='sigmoid')\n",
    "])"
   ]
  },
  {
   "cell_type": "code",
   "execution_count": 51,
   "metadata": {},
   "outputs": [
    {
     "name": "stdout",
     "output_type": "stream",
     "text": [
      "Model: \"sequential_5\"\n",
      "_________________________________________________________________\n",
      "Layer (type)                 Output Shape              Param #   \n",
      "=================================================================\n",
      "keras_layer_5 (KerasLayer)   (None, 50)                48190600  \n",
      "_________________________________________________________________\n",
      "dense_10 (Dense)             (None, 16)                816       \n",
      "_________________________________________________________________\n",
      "dense_11 (Dense)             (None, 1)                 17        \n",
      "=================================================================\n",
      "Total params: 48,191,433\n",
      "Trainable params: 48,191,433\n",
      "Non-trainable params: 0\n",
      "_________________________________________________________________\n"
     ]
    }
   ],
   "source": [
    "model.summary()"
   ]
  },
  {
   "cell_type": "code",
   "execution_count": 52,
   "metadata": {},
   "outputs": [],
   "source": [
    "loss = tf.keras.losses.BinaryCrossentropy()"
   ]
  },
  {
   "cell_type": "code",
   "execution_count": 53,
   "metadata": {},
   "outputs": [],
   "source": [
    "model.compile(loss=loss, optimizer='adam', metrics=['accuracy'])"
   ]
  },
  {
   "cell_type": "code",
   "execution_count": 55,
   "metadata": {},
   "outputs": [
    {
     "name": "stdout",
     "output_type": "stream",
     "text": [
      "Epoch 1/10\n",
      "49/49 [==============================] - 35s 707ms/step - loss: 0.3409 - accuracy: 0.8746 - val_loss: 0.3497 - val_accuracy: 0.8535\n",
      "Epoch 2/10\n",
      "49/49 [==============================] - 36s 729ms/step - loss: 0.2368 - accuracy: 0.9179 - val_loss: 0.3132 - val_accuracy: 0.8663\n",
      "Epoch 3/10\n",
      "49/49 [==============================] - 37s 751ms/step - loss: 0.1696 - accuracy: 0.9448 - val_loss: 0.3082 - val_accuracy: 0.8682\n",
      "Epoch 4/10\n",
      "49/49 [==============================] - 36s 730ms/step - loss: 0.1220 - accuracy: 0.9643 - val_loss: 0.3106 - val_accuracy: 0.8702\n",
      "Epoch 5/10\n",
      "49/49 [==============================] - 33s 685ms/step - loss: 0.0872 - accuracy: 0.9790 - val_loss: 0.3297 - val_accuracy: 0.8650\n",
      "Epoch 6/10\n",
      "49/49 [==============================] - 35s 712ms/step - loss: 0.0622 - accuracy: 0.9872 - val_loss: 0.3449 - val_accuracy: 0.8637\n",
      "Epoch 7/10\n",
      "49/49 [==============================] - 8316s 173s/step - loss: 0.0429 - accuracy: 0.9930 - val_loss: 0.3735 - val_accuracy: 0.8604\n",
      "Epoch 8/10\n",
      "49/49 [==============================] - 42s 858ms/step - loss: 0.0289 - accuracy: 0.9970 - val_loss: 0.4016 - val_accuracy: 0.8589\n",
      "Epoch 9/10\n",
      "49/49 [==============================] - 50s 1s/step - loss: 0.0200 - accuracy: 0.9987 - val_loss: 0.4323 - val_accuracy: 0.8562\n",
      "Epoch 10/10\n",
      "49/49 [==============================] - 42s 838ms/step - loss: 0.0140 - accuracy: 0.9993 - val_loss: 0.4552 - val_accuracy: 0.8552\n"
     ]
    },
    {
     "data": {
      "text/plain": [
       "<keras.callbacks.History at 0x7fcaaa9b2ac8>"
      ]
     },
     "execution_count": 55,
     "metadata": {},
     "output_type": "execute_result"
    }
   ],
   "source": [
    "model.fit(train_examples, train_labels, epochs=10, batch_size=512, validation_data=(test_examples, test_labels))"
   ]
  },
  {
   "cell_type": "code",
   "execution_count": null,
   "metadata": {},
   "outputs": [],
   "source": []
  }
 ],
 "metadata": {
  "kernelspec": {
   "display_name": "Python 3",
   "language": "python",
   "name": "python3"
  },
  "language_info": {
   "codemirror_mode": {
    "name": "ipython",
    "version": 3
   },
   "file_extension": ".py",
   "mimetype": "text/x-python",
   "name": "python",
   "nbconvert_exporter": "python",
   "pygments_lexer": "ipython3",
   "version": "3.7.3"
  }
 },
 "nbformat": 4,
 "nbformat_minor": 4
}
